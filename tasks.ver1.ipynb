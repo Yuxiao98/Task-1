{
 "cells": [
  {
   "cell_type": "code",
   "execution_count": 5,
   "metadata": {},
   "outputs": [
    {
     "data": {
      "application/vnd.jupyter.widget-view+json": {
       "model_id": "3b8939ef14574a6dbb79021384b9af0d",
       "version_major": 2,
       "version_minor": 0
      },
      "text/plain": [
       "Tab(children=(Output(), Output(), Output()), _titles={'0': 'Scatter Plot', '1': 'csv file', '2': 'Graph'})"
      ]
     },
     "metadata": {},
     "output_type": "display_data"
    }
   ],
   "source": [
    "%matplotlib inline\n",
    "import matplotlib.pyplot as plt\n",
    "import pandas as pd\n",
    "import ipywidgets as widgets\n",
    "import numpy as np\n",
    "import qgrid\n",
    "import plotly.graph_objects as go\n",
    "df = pd.read_csv('try.csv')\n",
    "\n",
    "out1 = widgets.Output()\n",
    "out2 = widgets.Output()\n",
    "out3 = widgets.Output()\n",
    "\n",
    "tab = widgets.Tab(children = [out1, out2, out3])\n",
    "tab.set_title(0, 'Scatter Plot')\n",
    "tab.set_title(1, 'csv file')\n",
    "tab.set_title(2, 'Graph')\n",
    "display(tab)\n",
    "\n",
    "with out1:\n",
    "    fig1 = df.plot(kind='scatter',x='btap_results.total_capital_cost',y='btap_results.total_end_uses_gj_per_m_sq')\n",
    "    plt.show(fig1)\n",
    "\n",
    "with out2:\n",
    "    qgrid_widget = qgrid.show_grid(df, show_toolbar=True)\n",
    "    display(qgrid_widget)\n",
    "\n",
    "with out3:\n",
    "        fig = go.Figure(data=go.Parcoords(\n",
    "                line = dict(color = df['btap_envelope_construction_measure.outdoors_fixedwindow_conductance'],\n",
    "                           colorscale = [[0,'purple'],[0.5,'lightseagreen'],[1,'gold']]),\n",
    "                dimensions = list([\n",
    "                    dict(range = [0,0.5],\n",
    "                        label = 'Outdoors Roofceiling Conductance', values = df['btap_envelope_construction_measure.outdoors_roofceiling_conductance']),\n",
    "                    dict(range = [0,0.5],\n",
    "                        label = 'Outdoors Wall Conductance', values = df['btap_envelope_construction_measure.outdoors_wall_conductance']),\n",
    "                    dict(range = [440000,460000],\n",
    "                        label = 'Total Capital Cost', values = df['btap_results.total_capital_cost']),\n",
    "                    dict(range = [0.4,0.5],\n",
    "                        label = 'Total End Uses Gj Per M Sq', values = df['btap_results.total_end_uses_gj_per_m_sq'])\n",
    "                ])\n",
    "            )\n",
    "        )\n",
    "\n",
    "        fig.update_layout(\n",
    "            plot_bgcolor = 'white',\n",
    "            paper_bgcolor = 'white'\n",
    "        )\n",
    "\n",
    "        fig.show()"
   ]
  },
  {
   "cell_type": "code",
   "execution_count": null,
   "metadata": {},
   "outputs": [],
   "source": []
  },
  {
   "cell_type": "code",
   "execution_count": null,
   "metadata": {},
   "outputs": [],
   "source": []
  },
  {
   "cell_type": "code",
   "execution_count": null,
   "metadata": {},
   "outputs": [],
   "source": []
  }
 ],
 "metadata": {
  "kernelspec": {
   "display_name": "Python 3",
   "language": "python",
   "name": "python3"
  },
  "language_info": {
   "codemirror_mode": {
    "name": "ipython",
    "version": 3
   },
   "file_extension": ".py",
   "mimetype": "text/x-python",
   "name": "python",
   "nbconvert_exporter": "python",
   "pygments_lexer": "ipython3",
   "version": "3.6.7"
  }
 },
 "nbformat": 4,
 "nbformat_minor": 2
}
