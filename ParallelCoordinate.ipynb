{
 "cells": [
  {
   "cell_type": "code",
   "execution_count": null,
   "metadata": {},
   "outputs": [],
   "source": [
    "import plotly.graph_objs as go\n",
    "import plotly.offline as py\n",
    "import ipywidgets as widgets\n",
    "import pandas as pd\n",
    "import numpy as np\n",
    "from ipywidgets import interactive, HBox, VBox\n",
    "import qgrid\n",
    "\n",
    "py.init_notebook_mode()\n",
    "\n",
    "df = pd.read_csv('try.csv')\n",
    "\n",
    "\n",
    "f = go.FigureWidget([go.Parcoords(\n",
    "                line = dict(color = df['btap_envelope_construction_measure.outdoors_fixedwindow_conductance'],\n",
    "                           colorscale = [[0,'purple'],[0.5,'lightseagreen'],[1,'gold']]),\n",
    "                dimensions = list([\n",
    "                    ##set the range accordingly to the data\n",
    "                    dict(range = [0,0.5],\n",
    "                        label = 'Outdoors Roofceiling Conductance', values = df['btap_envelope_construction_measure.outdoors_roofceiling_conductance']),\n",
    "                    dict(range = [0,0.5],\n",
    "                        label = 'Outdoors Wall Conductance', values = df['btap_envelope_construction_measure.outdoors_wall_conductance']),\n",
    "                    dict(range = [440000,460000],\n",
    "                        label = 'Total Capital Cost', values = df['btap_results.total_capital_cost']),\n",
    "                    dict(range = [0.4,0.5],\n",
    "                        label = 'Total End Uses Gj Per M Sq', values = df['btap_results.total_end_uses_gj_per_m_sq'])\n",
    "                ]))])\n",
    "\n",
    "scatter = f.data[0]\n",
    "\n",
    "# Create a table FigureWidget that updates on selection from points in the scatter plot of f\n",
    "t = go.FigureWidget([go.Table(\n",
    "    columnwidth = 500,\n",
    "    header=dict(values=['Name','ID','STime','ETime','Status', 'Status Message','Fixedwindow Conductance',\n",
    "                       'Roofceiling Conductance', 'Wall Conductance',\n",
    "                       'Capital Cost', 'End Uses gj per m sq', 'Envelope Cost'],\n",
    "                fill = dict(color='#C2D4FF'),\n",
    "                align = ['left'] * 5),\n",
    "    cells=dict(values=[df[col] for col in ['name','_id','run_start_time','run_end_time','status', 'status_message','btap_envelope_construction_measure.outdoors_fixedwindow_conductance',\n",
    "                       'btap_envelope_construction_measure.outdoors_roofceiling_conductance', 'btap_envelope_construction_measure.outdoors_wall_conductance',\n",
    "                       'btap_results.total_capital_cost', 'btap_results.total_end_uses_gj_per_m_sq', 'btap_results.total_envelope_cost']],\n",
    "               fill = dict(color='#F5F8FF'),\n",
    "               align = ['left'] * 5))])\n",
    "\n",
    "def selection_fn(trace,points,selector):\n",
    "    t.data[0].cells.values = [df.loc[points.point_inds][col] for col in ['name','_id','run_start_time','run_end_time','status', 'status_message','btap_envelope_construction_measure.outdoors_fixedwindow_conductance',\n",
    "                       'btap_envelope_construction_measure.outdoors_roofceiling_conductance', 'btap_envelope_construction_measure.outdoors_wall_conductance',\n",
    "                       'btap_results.total_capital_cost', 'btap_results.total_end_uses_gj_per_m_sq', 'btap_results.total_envelope_cost']]\n",
    "\n",
    "scatter.on_selection(selection_fn)\n",
    "\n",
    "# Put everything together\n",
    "VBox([f,t])\n"
   ]
  },
  {
   "cell_type": "code",
   "execution_count": null,
   "metadata": {},
   "outputs": [],
   "source": []
  },
  {
   "cell_type": "code",
   "execution_count": null,
   "metadata": {},
   "outputs": [],
   "source": []
  },
  {
   "cell_type": "code",
   "execution_count": null,
   "metadata": {},
   "outputs": [],
   "source": []
  },
  {
   "cell_type": "code",
   "execution_count": null,
   "metadata": {},
   "outputs": [],
   "source": []
  }
 ],
 "metadata": {
  "kernelspec": {
   "display_name": "Python 3",
   "language": "python",
   "name": "python3"
  },
  "language_info": {
   "codemirror_mode": {
    "name": "ipython",
    "version": 3
   },
   "file_extension": ".py",
   "mimetype": "text/x-python",
   "name": "python",
   "nbconvert_exporter": "python",
   "pygments_lexer": "ipython3",
   "version": "3.6.7"
  }
 },
 "nbformat": 4,
 "nbformat_minor": 2
}
