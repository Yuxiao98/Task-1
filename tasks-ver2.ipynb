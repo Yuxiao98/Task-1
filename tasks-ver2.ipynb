{
 "cells": [
  {
   "cell_type": "code",
   "execution_count": 3,
   "metadata": {},
   "outputs": [
    {
     "data": {
      "application/vnd.jupyter.widget-view+json": {
       "model_id": "e413534590c44e2ebd91e73c29bc620d",
       "version_major": 2,
       "version_minor": 0
      },
      "text/plain": [
       "Tab(children=(Output(), Output(), Output()), _titles={'0': 'Scatter Plot', '1': 'csv file', '2': 'Graph'})"
      ]
     },
     "metadata": {},
     "output_type": "display_data"
    }
   ],
   "source": [
    "%matplotlib inline\n",
    "import matplotlib.pyplot as plt\n",
    "import pandas as pd\n",
    "import ipywidgets as widgets\n",
    "import numpy as np\n",
    "import qgrid\n",
    "import plotly.graph_objects as go\n",
    "\n",
    "##read in the CSV file containing needed data\n",
    "df = pd.read_csv('try.csv')\n",
    "\n",
    "##initialize widgets Output() objects to be added in tabs\n",
    "outForScatter = widgets.Output()\n",
    "outForGrid = widgets.Output()\n",
    "outForGraph = widgets.Output()\n",
    "\n",
    "##a tab widget containing elements above\n",
    "tab = widgets.Tab(children = [outForScatter, outForGrid, outForGraph])\n",
    "\n",
    "##Set descriptive tab titles\n",
    "tab.set_title(0, 'Scatter Plot')\n",
    "tab.set_title(1, 'csv file')\n",
    "tab.set_title(2, 'Graph')\n",
    "\n",
    "##display the tab widget\n",
    "display(tab)\n",
    "\n",
    "##put required stuff into each tab element\n",
    "with outForScatter:\n",
    "    \n",
    "    ##create a scattered plot have required columns as axis\n",
    "    fig1 = df.plot(kind='scatter',x='btap_results.total_capital_cost',y='btap_results.total_end_uses_gj_per_m_sq')\n",
    "    ##show the plot\n",
    "    plt.show(fig1)\n",
    "\n",
    "with outForGrid:\n",
    "    ##create a qgrid with read-in CSV file\n",
    "    qgrid_widget = qgrid.show_grid(df, show_toolbar=True)\n",
    "    ##display obtained qgrid\n",
    "    display(qgrid_widget)\n",
    "\n",
    "with outForGraph:\n",
    "        ##create a parallel graph with specific columns in the CSV file\n",
    "        fig = go.Figure(data=go.Parcoords(\n",
    "                line = dict(color = df['btap_envelope_construction_measure.outdoors_fixedwindow_conductance'],\n",
    "                           colorscale = [[0,'purple'],[0.5,'lightseagreen'],[1,'gold']]),\n",
    "                dimensions = list([\n",
    "                    ##set the range accordingly to the data\n",
    "                    dict(range = [0,0.5],\n",
    "                        label = 'Outdoors Roofceiling Conductance', values = df['btap_envelope_construction_measure.outdoors_roofceiling_conductance']),\n",
    "                    dict(range = [0,0.5],\n",
    "                        label = 'Outdoors Wall Conductance', values = df['btap_envelope_construction_measure.outdoors_wall_conductance']),\n",
    "                    dict(range = [440000,460000],\n",
    "                        label = 'Total Capital Cost', values = df['btap_results.total_capital_cost']),\n",
    "                    dict(range = [0.4,0.5],\n",
    "                        label = 'Total End Uses Gj Per M Sq', values = df['btap_results.total_end_uses_gj_per_m_sq'])\n",
    "                ])\n",
    "            )\n",
    "        )\n",
    "        \n",
    "        ##show the graph\n",
    "        fig.show()"
   ]
  },
  {
   "cell_type": "code",
   "execution_count": null,
   "metadata": {},
   "outputs": [],
   "source": []
  },
  {
   "cell_type": "code",
   "execution_count": null,
   "metadata": {},
   "outputs": [],
   "source": []
  },
  {
   "cell_type": "code",
   "execution_count": null,
   "metadata": {},
   "outputs": [],
   "source": []
  }
 ],
 "metadata": {
  "kernelspec": {
   "display_name": "Python 3",
   "language": "python",
   "name": "python3"
  },
  "language_info": {
   "codemirror_mode": {
    "name": "ipython",
    "version": 3
   },
   "file_extension": ".py",
   "mimetype": "text/x-python",
   "name": "python",
   "nbconvert_exporter": "python",
   "pygments_lexer": "ipython3",
   "version": "3.6.7"
  }
 },
 "nbformat": 4,
 "nbformat_minor": 2
}
